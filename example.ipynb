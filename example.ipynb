{
 "cells": [
  {
   "cell_type": "code",
   "execution_count": 1,
   "metadata": {},
   "outputs": [],
   "source": [
    "from tqdm import tqdm\n",
    "from dataset_io.dataset import Dataset, DatasetPart"
   ]
  },
  {
   "cell_type": "code",
   "execution_count": 2,
   "metadata": {},
   "outputs": [],
   "source": [
    "import numpy as np\n",
    "from PIL import ImageDraw\n",
    "\n",
    "def convert_bbox_xywhn_to_xywh(bbox, original_image_size):\n",
    "    x, y, w, h = bbox.xn, bbox.yn, bbox.wn, bbox.hn\n",
    "\n",
    "    x *= original_image_size[0]\n",
    "    y *= original_image_size[1]\n",
    "    w *= original_image_size[0]\n",
    "    h *= original_image_size[1]\n",
    "    return x, y, w, h\n",
    "\n",
    "def draw_xywhn_bbox(image, bboxes):\n",
    "    draw = ImageDraw.Draw(image)\n",
    "    for bbox in bboxes:\n",
    "        x, y, w, h = convert_bbox_xywhn_to_xywh(bbox, image.size)\n",
    "        draw.rectangle([x, y, x + w, y + h], outline='red')\n",
    "    return image"
   ]
  },
  {
   "cell_type": "code",
   "execution_count": 3,
   "metadata": {},
   "outputs": [],
   "source": [
    "dataset = Dataset('data')"
   ]
  },
  {
   "cell_type": "code",
   "execution_count": 4,
   "metadata": {},
   "outputs": [
    {
     "name": "stderr",
     "output_type": "stream",
     "text": [
      "0it [00:00, ?it/s]"
     ]
    },
    {
     "name": "stderr",
     "output_type": "stream",
     "text": [
      "58it [00:55,  1.04it/s]\n"
     ]
    }
   ],
   "source": [
    "u = 0\n",
    "for image_name, image, labels in tqdm(dataset.lazy_iterate(DatasetPart.VAL)):\n",
    "    new_image = draw_xywhn_bbox(image, labels)\n",
    "    image.save(f'out/{image_name}.png')\n",
    "    u += 1"
   ]
  },
  {
   "cell_type": "code",
   "execution_count": null,
   "metadata": {},
   "outputs": [],
   "source": []
  }
 ],
 "metadata": {
  "kernelspec": {
   "display_name": "Python 3",
   "language": "python",
   "name": "python3"
  },
  "language_info": {
   "codemirror_mode": {
    "name": "ipython",
    "version": 3
   },
   "file_extension": ".py",
   "mimetype": "text/x-python",
   "name": "python",
   "nbconvert_exporter": "python",
   "pygments_lexer": "ipython3",
   "version": "3.10.7"
  }
 },
 "nbformat": 4,
 "nbformat_minor": 2
}
